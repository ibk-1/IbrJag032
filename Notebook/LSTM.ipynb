{
  "nbformat": 4,
  "nbformat_minor": 0,
  "metadata": {
    "colab": {
      "provenance": []
    },
    "kernelspec": {
      "name": "python3",
      "display_name": "Python 3"
    },
    "language_info": {
      "name": "python"
    }
  },
  "cells": [
    {
      "cell_type": "markdown",
      "source": [
        "### Introduction\n",
        "This notebook demonstrates a neural network with LSTM Layer to classify the short german phrases.(Just a try!).\n",
        "\n",
        "\n",
        "*   Loaded data with Pandas DataFrame.\n",
        "*   Preproccessed Data as same as SVM and Navie Bayes.\n",
        "*   Performs Tokenization to convert text to indexes.\n",
        "*   Added Padding to have same length of input.\n",
        "*   Handling Labels with One-Hot Encoding.\n",
        "*   Splitting the dataset.\n",
        "*   Model Building and Compiling.\n",
        "*   Model Training.\n",
        "*   Model Evaulation."
      ],
      "metadata": {
        "id": "isrWMhOLVZvs"
      }
    },
    {
      "cell_type": "code",
      "source": [
        "import tensorflow as tf\n",
        "from tensorflow.keras.preprocessing.text import Tokenizer\n",
        "from tensorflow.keras.preprocessing.sequence import pad_sequences\n",
        "from sklearn.model_selection import train_test_split\n",
        "from sklearn.preprocessing import OneHotEncoder\n",
        "import pandas as pd\n",
        "import numpy as np\n",
        "import matplotlib.pyplot as plt\n"
      ],
      "metadata": {
        "id": "S1A04iWhE1Ps"
      },
      "execution_count": 23,
      "outputs": []
    },
    {
      "cell_type": "markdown",
      "source": [
        "### Data Loading"
      ],
      "metadata": {
        "id": "NSXwJQVRVV_O"
      }
    },
    {
      "cell_type": "code",
      "source": [
        "# Load the dataset\n",
        "file_path = 'sample_data.csv'\n",
        "df = pd.read_csv(file_path)\n"
      ],
      "metadata": {
        "id": "QIDY2m1YE4qJ"
      },
      "execution_count": 2,
      "outputs": []
    },
    {
      "cell_type": "markdown",
      "source": [
        "### Data Pre-Processing"
      ],
      "metadata": {
        "id": "z00gu0M7VPJK"
      }
    },
    {
      "cell_type": "code",
      "source": [
        "import re\n",
        "import nltk\n",
        "from nltk.stem.snowball import GermanStemmer\n",
        "\n",
        "\n",
        "nltk.download(\"punkt\")\n",
        "\n",
        "\n",
        "def preprocess_german_text(text: str) -> str:\n",
        "    \"\"\"This function preprocess the german phrases,\n",
        "    It takes a string `text` as input and returns a preprocessed text.\"\"\"\n",
        "\n",
        "    # Convert to Lowercase\n",
        "    text = text.lower()\n",
        "\n",
        "    # Handle German umlauts and special characters\n",
        "    replacements = {\"ä\": \"ae\", \"ö\": \"oe\", \"ü\": \"ue\", \"ß\": \"ss\"}\n",
        "    for k, v in replacements.items():\n",
        "        text = text.replace(k, v)\n",
        "\n",
        "    # Remove E-Mails\n",
        "    text = re.sub(r\"\\S+@\\S+\", \"\", text)\n",
        "\n",
        "    # Remove numbers\n",
        "    text = re.sub(r\"\\d+\", \"\", text)\n",
        "\n",
        "    # Remove punctuation and special characters\n",
        "    text = re.sub(r\"[^\\w\\s]\", \"\", text)\n",
        "\n",
        "    # Tokenization\n",
        "    tokens = nltk.word_tokenize(text, language=\"german\")\n",
        "\n",
        "    # Stemming\n",
        "    stemmer = GermanStemmer()\n",
        "    stemmed_tokens = [stemmer.stem(token) for token in tokens]\n",
        "\n",
        "    return \" \".join(stemmed_tokens)"
      ],
      "metadata": {
        "colab": {
          "base_uri": "https://localhost:8080/"
        },
        "id": "E4xXhgkTFEn1",
        "outputId": "07f60510-a51f-406f-fbcb-6fe8dddefb17"
      },
      "execution_count": 3,
      "outputs": [
        {
          "output_type": "stream",
          "name": "stderr",
          "text": [
            "[nltk_data] Downloading package punkt to /root/nltk_data...\n",
            "[nltk_data]   Unzipping tokenizers/punkt.zip.\n"
          ]
        }
      ]
    },
    {
      "cell_type": "code",
      "source": [
        "df['processed_text'] = df['text'].apply(preprocess_german_text)"
      ],
      "metadata": {
        "id": "E50in1llFHBF"
      },
      "execution_count": 4,
      "outputs": []
    },
    {
      "cell_type": "markdown",
      "source": [
        "### Tokenisation"
      ],
      "metadata": {
        "id": "X7uc0_4nZSNv"
      }
    },
    {
      "cell_type": "code",
      "source": [
        "# Tokenization\n",
        "tokenizer = Tokenizer(num_words=5000, oov_token=\"<OOV>\")\n",
        "tokenizer.fit_on_texts(df['processed_text'])\n",
        "word_index = tokenizer.word_index\n",
        "sequences = tokenizer.texts_to_sequences(df['processed_text'])\n",
        "padded = pad_sequences(sequences, padding='post')"
      ],
      "metadata": {
        "id": "6C7VjDgxFQXu"
      },
      "execution_count": 5,
      "outputs": []
    },
    {
      "cell_type": "markdown",
      "source": [
        "### Handling Labels"
      ],
      "metadata": {
        "id": "cKSECz32ZXi-"
      }
    },
    {
      "cell_type": "code",
      "source": [
        "# Handling Labels with One-Hot Encoding\n",
        "encoder = OneHotEncoder(sparse_output=False)\n",
        "labels = encoder.fit_transform(df[['label']])"
      ],
      "metadata": {
        "id": "0cxcSgE_GgIW"
      },
      "execution_count": 12,
      "outputs": []
    },
    {
      "cell_type": "markdown",
      "source": [
        "### Splitting the DataSet"
      ],
      "metadata": {
        "id": "HrntycP3Zb3j"
      }
    },
    {
      "cell_type": "code",
      "source": [
        "# Splitting the dataset\n",
        "X_train, X_test, y_train, y_test = train_test_split(padded, labels, test_size=0.2, random_state=42)"
      ],
      "metadata": {
        "id": "L69TB7yoFflf"
      },
      "execution_count": 13,
      "outputs": []
    },
    {
      "cell_type": "markdown",
      "source": [
        "###  Model Building and Compiling"
      ],
      "metadata": {
        "id": "LTDebMwuZf4T"
      }
    },
    {
      "cell_type": "code",
      "execution_count": 21,
      "metadata": {
        "id": "REAgGmgb2Q1Z"
      },
      "outputs": [],
      "source": [
        "# Model Building\n",
        "model = tf.keras.Sequential([\n",
        "    tf.keras.layers.Embedding(input_dim=5000, output_dim=64, input_length=padded.shape[1]),\n",
        "    tf.keras.layers.LSTM(64),\n",
        "    tf.keras.layers.Dense(64, activation='relu'),\n",
        "    tf.keras.layers.Dense(labels.shape[1], activation='softmax')\n",
        "])\n",
        "\n",
        "model.compile(loss='categorical_crossentropy',optimizer='adam',metrics=['accuracy'])"
      ]
    },
    {
      "cell_type": "markdown",
      "source": [
        "### Model Training"
      ],
      "metadata": {
        "id": "-tnla2JBZlwr"
      }
    },
    {
      "cell_type": "code",
      "source": [
        "# Model Training\n",
        "model.fit(X_train, y_train, epochs=10, validation_data=(X_test, y_test))"
      ],
      "metadata": {
        "colab": {
          "base_uri": "https://localhost:8080/"
        },
        "id": "YGWRNEqmFjj4",
        "outputId": "4441a96f-af27-4b1c-a984-73905a8f2e50"
      },
      "execution_count": 22,
      "outputs": [
        {
          "output_type": "stream",
          "name": "stdout",
          "text": [
            "Epoch 1/10\n",
            "933/933 [==============================] - 94s 96ms/step - loss: 0.7448 - accuracy: 0.7339 - val_loss: 0.4144 - val_accuracy: 0.8675\n",
            "Epoch 2/10\n",
            "933/933 [==============================] - 87s 94ms/step - loss: 0.3076 - accuracy: 0.8889 - val_loss: 0.3329 - val_accuracy: 0.8791\n",
            "Epoch 3/10\n",
            "933/933 [==============================] - 89s 95ms/step - loss: 0.2504 - accuracy: 0.9068 - val_loss: 0.3289 - val_accuracy: 0.8822\n",
            "Epoch 4/10\n",
            "933/933 [==============================] - 93s 99ms/step - loss: 0.2280 - accuracy: 0.9130 - val_loss: 0.3240 - val_accuracy: 0.8832\n",
            "Epoch 5/10\n",
            "933/933 [==============================] - 88s 94ms/step - loss: 0.2135 - accuracy: 0.9172 - val_loss: 0.3229 - val_accuracy: 0.8826\n",
            "Epoch 6/10\n",
            "933/933 [==============================] - 88s 95ms/step - loss: 0.2032 - accuracy: 0.9213 - val_loss: 0.3253 - val_accuracy: 0.8816\n",
            "Epoch 7/10\n",
            "933/933 [==============================] - 89s 95ms/step - loss: 0.1944 - accuracy: 0.9233 - val_loss: 0.3283 - val_accuracy: 0.8855\n",
            "Epoch 8/10\n",
            "933/933 [==============================] - 93s 100ms/step - loss: 0.1859 - accuracy: 0.9268 - val_loss: 0.3324 - val_accuracy: 0.8844\n",
            "Epoch 9/10\n",
            "933/933 [==============================] - 89s 95ms/step - loss: 0.1788 - accuracy: 0.9288 - val_loss: 0.3388 - val_accuracy: 0.8846\n",
            "Epoch 10/10\n",
            "933/933 [==============================] - 94s 100ms/step - loss: 0.1716 - accuracy: 0.9320 - val_loss: 0.3495 - val_accuracy: 0.8827\n"
          ]
        },
        {
          "output_type": "execute_result",
          "data": {
            "text/plain": [
              "<keras.src.callbacks.History at 0x7c948d5ebfa0>"
            ]
          },
          "metadata": {},
          "execution_count": 22
        }
      ]
    },
    {
      "cell_type": "markdown",
      "source": [
        "### Accuracy Evaluation"
      ],
      "metadata": {
        "id": "S5-4WfDaZo2O"
      }
    },
    {
      "cell_type": "code",
      "source": [
        "plt.plot(model.history.history['accuracy'], label='Training Accuracy')\n",
        "plt.plot(model.history.history['val_accuracy'] , label='Validation Accuracy')\n",
        "plt.title('Accuracy of the Model')\n",
        "plt.xlabel('Epochs')\n",
        "plt.ylabel('Accuracy')\n",
        "plt.legend()\n",
        "plt.show()"
      ],
      "metadata": {
        "colab": {
          "base_uri": "https://localhost:8080/",
          "height": 472
        },
        "id": "TjvujLOpHZX0",
        "outputId": "ad199e34-9d62-4d28-f3bb-7caa647b7122"
      },
      "execution_count": 25,
      "outputs": [
        {
          "output_type": "display_data",
          "data": {
            "text/plain": [
              "<Figure size 640x480 with 1 Axes>"
            ],
            "image/png": "[encoded data removed]"
          },
          "metadata": {}
        }
      ]
    },
    {
      "cell_type": "markdown",
      "source": [
        "Tried with different output dimension"
      ],
      "metadata": {
        "id": "3E73pQDdZt5E"
      }
    },
    {
      "cell_type": "code",
      "source": [
        "# Model Building\n",
        "model_1 = tf.keras.Sequential([\n",
        "    tf.keras.layers.Embedding(input_dim=5000, output_dim=32, input_length=padded.shape[1]),\n",
        "    tf.keras.layers.LSTM(32),\n",
        "    tf.keras.layers.Dense(32, activation='relu'),\n",
        "    tf.keras.layers.Dense(labels.shape[1], activation='softmax')\n",
        "])\n",
        "\n",
        "model_1.compile(loss=tf.keras.losses.CategoricalCrossentropy(),optimizer=tf.keras.optimizers.Adam(),metrics=['accuracy'])"
      ],
      "metadata": {
        "id": "spC4241pQIK8"
      },
      "execution_count": 55,
      "outputs": []
    },
    {
      "cell_type": "code",
      "source": [
        "# Model Training\n",
        "model_1.fit(X_train, y_train, epochs=10, validation_data=(X_test, y_test))"
      ],
      "metadata": {
        "colab": {
          "base_uri": "https://localhost:8080/"
        },
        "id": "VlHreD_sTrG7",
        "outputId": "95e557e2-3ed0-4803-bac2-69193e02013a"
      },
      "execution_count": 57,
      "outputs": [
        {
          "output_type": "stream",
          "name": "stdout",
          "text": [
            "Epoch 1/10\n",
            "933/933 [==============================] - 40s 43ms/step - loss: 1.6839 - accuracy: 0.2934 - val_loss: 1.6889 - val_accuracy: 0.3014\n",
            "Epoch 2/10\n",
            "933/933 [==============================] - 38s 40ms/step - loss: 1.6831 - accuracy: 0.2985 - val_loss: 1.6886 - val_accuracy: 0.3014\n",
            "Epoch 3/10\n",
            "933/933 [==============================] - 38s 40ms/step - loss: 1.6828 - accuracy: 0.2970 - val_loss: 1.6868 - val_accuracy: 0.3014\n",
            "Epoch 4/10\n",
            "933/933 [==============================] - 38s 41ms/step - loss: 1.6830 - accuracy: 0.2974 - val_loss: 1.6861 - val_accuracy: 0.3014\n",
            "Epoch 5/10\n",
            "933/933 [==============================] - 40s 42ms/step - loss: 1.6826 - accuracy: 0.2982 - val_loss: 1.6854 - val_accuracy: 0.3014\n",
            "Epoch 6/10\n",
            "933/933 [==============================] - 37s 40ms/step - loss: 1.6824 - accuracy: 0.3006 - val_loss: 1.6855 - val_accuracy: 0.3014\n",
            "Epoch 7/10\n",
            "933/933 [==============================] - 38s 41ms/step - loss: 1.6825 - accuracy: 0.2996 - val_loss: 1.6862 - val_accuracy: 0.3014\n",
            "Epoch 8/10\n",
            "933/933 [==============================] - 38s 41ms/step - loss: 1.6823 - accuracy: 0.2998 - val_loss: 1.6860 - val_accuracy: 0.3014\n",
            "Epoch 9/10\n",
            "933/933 [==============================] - 37s 40ms/step - loss: 1.6822 - accuracy: 0.3003 - val_loss: 1.6868 - val_accuracy: 0.3014\n",
            "Epoch 10/10\n",
            "933/933 [==============================] - 38s 41ms/step - loss: 1.6825 - accuracy: 0.3009 - val_loss: 1.6851 - val_accuracy: 0.3014\n"
          ]
        },
        {
          "output_type": "execute_result",
          "data": {
            "text/plain": [
              "<keras.src.callbacks.History at 0x7c948e920190>"
            ]
          },
          "metadata": {},
          "execution_count": 57
        }
      ]
    },
    {
      "cell_type": "code",
      "source": [
        "plt.plot(model_1.history.history['accuracy'], label='Training Accuracy')\n",
        "plt.plot(model_1.history.history['val_accuracy'] , label='Validation Accuracy')\n",
        "plt.title('Accuracy of the Model')\n",
        "plt.xlabel('Epochs')\n",
        "plt.ylabel('Accuracy')\n",
        "plt.legend()\n",
        "plt.show()"
      ],
      "metadata": {
        "colab": {
          "base_uri": "https://localhost:8080/",
          "height": 472
        },
        "id": "CGfVBNQOTv-y",
        "outputId": "deb9f70c-2ee9-4dde-c973-306d6e7f3948"
      },
      "execution_count": 28,
      "outputs": [
        {
          "output_type": "display_data",
          "data": {
            "text/plain": [
              "<Figure size 640x480 with 1 Axes>"
            ],
            "image/png": "[encoded data removed]"
          },
          "metadata": {}
        }
      ]
    },
    {
      "cell_type": "code",
      "source": [
        "def predict_text(text: str) -> str:\n",
        "    processed_text = preprocess_german_text(text)\n",
        "    sequence = tokenizer.texts_to_sequences([processed_text])\n",
        "    padded_sequence = pad_sequences(sequence, maxlen=padded.shape[1], padding='post')\n",
        "    prediction = model.predict(padded_sequence)\n",
        "    predicted_label = encoder.inverse_transform(prediction)[0][0]\n",
        "    return predicted_label\n"
      ],
      "metadata": {
        "id": "hWAcoK3lfUhU"
      },
      "execution_count": null,
      "outputs": []
    },
    {
      "cell_type": "code",
      "source": [
        "padded.shape[1]"
      ],
      "metadata": {
        "colab": {
          "base_uri": "https://localhost:8080/"
        },
        "id": "2laLdNXLF5Xe",
        "outputId": "8f9661b2-9b1f-401e-adfe-2b81781c2f77"
      },
      "execution_count": 58,
      "outputs": [
        {
          "output_type": "execute_result",
          "data": {
            "text/plain": [
              "93"
            ]
          },
          "metadata": {},
          "execution_count": 58
        }
      ]
    },
    {
      "cell_type": "code",
      "source": [
        "# Predicting the test dataset\n",
        "y_pred_probs = model.predict(X_test)\n",
        "y_pred = np.argmax(y_pred_probs, axis=1)\n",
        "\n",
        "# Convert one-hot encoding\n",
        "y_test_indices = np.argmax(y_test, axis=1)\n",
        "\n",
        "y_pred_labels = encoder.inverse_transform(y_pred_probs).flatten()\n",
        "y_test_labels = encoder.inverse_transform(y_test).flatten()\n",
        "# classification report\n",
        "from sklearn.metrics import classification_report\n",
        "print(classification_report(y_test_labels.astype(str), y_pred_labels.astype(str)))\n"
      ],
      "metadata": {
        "colab": {
          "base_uri": "https://localhost:8080/"
        },
        "id": "VXJybGr4baQW",
        "outputId": "3fbc5731-3136-44e0-a0b1-071489f3c2c5"
      },
      "execution_count": 51,
      "outputs": [
        {
          "output_type": "stream",
          "name": "stdout",
          "text": [
            "234/234 [==============================] - 6s 26ms/step\n",
            "              precision    recall  f1-score   support\n",
            "\n",
            "          ch       0.95      0.83      0.88       733\n",
            "         cnc       0.90      0.72      0.80       527\n",
            "          ct       0.95      0.89      0.92      1031\n",
            "          ft       0.88      0.94      0.91      2248\n",
            "          mr       0.86      0.85      0.85      1018\n",
            "         nan       0.86      1.00      0.93        19\n",
            "         pkg       0.84      0.89      0.86      1883\n",
            "\n",
            "    accuracy                           0.88      7459\n",
            "   macro avg       0.89      0.87      0.88      7459\n",
            "weighted avg       0.88      0.88      0.88      7459\n",
            "\n"
          ]
        }
      ]
    },
    {
      "cell_type": "code",
      "source": [
        "import json\n",
        "# saving the token indexing\n",
        "tokenizer_json = tokenizer.to_json()\n",
        "with open('tokenizer.json', 'w', encoding='utf-8') as f:\n",
        "    f.write(json.dumps(tokenizer_json, ensure_ascii=False))\n"
      ],
      "metadata": {
        "id": "oNKmYQnkfHIv"
      },
      "execution_count": 52,
      "outputs": []
    },
    {
      "cell_type": "code",
      "source": [
        "model.save(\"German_Text_Classification_LSTM_NN.h5\")\n"
      ],
      "metadata": {
        "id": "tZ_igi-mrgcv"
      },
      "execution_count": 60,
      "outputs": []
    },
    {
      "cell_type": "code",
      "source": [
        "import joblib\n",
        "joblib.dump(encoder, 'encoder.joblib')\n"
      ],
      "metadata": {
        "colab": {
          "base_uri": "https://localhost:8080/"
        },
        "id": "thn6ejv6HK1o",
        "outputId": "10793b2e-9afb-40e7-c3e7-a229524e3bcc"
      },
      "execution_count": 59,
      "outputs": [
        {
          "output_type": "execute_result",
          "data": {
            "text/plain": [
              "['encoder.joblib']"
            ]
          },
          "metadata": {},
          "execution_count": 59
        }
      ]
    },
    {
      "cell_type": "markdown",
      "source": [
        "### Conclusion\n",
        "All the 3 Models Performs at same level of accuracy by comparing the Classification Report."
      ],
      "metadata": {
        "id": "8lbsf0V8Z8Vv"
      }
    }
  ]
}